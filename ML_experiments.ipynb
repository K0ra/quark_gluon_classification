{
 "cells": [
  {
   "cell_type": "code",
   "execution_count": 1,
   "id": "79f970d0-b59c-4b82-bd19-ba7a62eaeaa1",
   "metadata": {},
   "outputs": [
    {
     "name": "stdout",
     "output_type": "stream",
     "text": [
      "WARNING:tensorflow:From C:\\Users\\Kora\\Dev\\quark_gluon_classification\\.venv\\Lib\\site-packages\\tf_keras\\src\\losses.py:2976: The name tf.losses.sparse_softmax_cross_entropy is deprecated. Please use tf.compat.v1.losses.sparse_softmax_cross_entropy instead.\n",
      "\n"
     ]
    }
   ],
   "source": [
    "# standard library imports\n",
    "from __future__ import absolute_import, division, print_function\n",
    "\n",
    "# standard numerical library imports\n",
    "import numpy as np\n",
    "\n",
    "# energyflow imports\n",
    "import energyflow as ef\n",
    "from energyflow.archs import EFN, PFN\n",
    "from energyflow.datasets import qg_jets\n",
    "from energyflow.utils import data_split, remap_pids, to_categorical\n",
    "\n",
    "from sklearn.metrics import roc_auc_score, roc_curve\n",
    "%matplotlib inline\n",
    "import matplotlib.pyplot as plt"
   ]
  },
  {
   "cell_type": "code",
   "execution_count": 2,
   "id": "31e6f09d-417f-4fad-a63b-18ee2e1ec30e",
   "metadata": {},
   "outputs": [],
   "source": [
    "################################### SETTINGS ##################################\n",
    "# the commented values correspond to those in 1810.05165\n",
    "###############################################################################\n",
    "\n",
    "# data controls, can go up to 2000000 total for full dataset\n",
    "train, val, test = 75000, 10000, 15000\n",
    "# train, val, test = 1000000, 200000, 200000\n",
    "\n",
    "# network architecture parameters\n",
    "Phi_sizes, F_sizes = (100, 100, 128), (100, 100, 100)\n",
    "# Phi_sizes, F_sizes = (100, 100, 256), (100, 100, 100)\n",
    "\n",
    "# network training parameters\n",
    "num_epoch = 5\n",
    "batch_size = 500"
   ]
  },
  {
   "cell_type": "code",
   "execution_count": 3,
   "id": "9c75c052-0dee-4a91-b49c-7231bef12133",
   "metadata": {},
   "outputs": [],
   "source": [
    "# load data\n",
    "X, y = qg_jets.load(train + val + test)"
   ]
  },
  {
   "cell_type": "markdown",
   "id": "3f7724f2-a86e-4f3a-8070-555de11c958b",
   "metadata": {},
   "source": [
    "### Dataset Analysis"
   ]
  },
  {
   "cell_type": "code",
   "execution_count": 11,
   "id": "3e024a7a-2d7a-476b-8e41-16c6ed6226ab",
   "metadata": {},
   "outputs": [
    {
     "name": "stdout",
     "output_type": "stream",
     "text": [
      "(100000, 139, 4)\n",
      "(100000,)\n"
     ]
    }
   ],
   "source": [
    "print(X.shape)\n",
    "print(y.shape)"
   ]
  },
  {
   "cell_type": "markdown",
   "id": "d7035b17-1546-4e88-8576-4d387dc844e6",
   "metadata": {},
   "source": [
    "- each **jet** (a spray of particles) can contain a different number of particles.\n",
    "- To store them in a nice uniform format (a 3D array), they use **padding**.\n",
    "- `max_num_particles` is the **maximum number of particles** any jet in the dataset has.\n",
    "- If a jet has fewer particles than that, it’s \"padded\" with **fake zero-particles** to match the shape.\n",
    "- So each `X[i]` is a list of particles for the i-th jet, and the total shape is: `(num_jets, max_num_particles, 4)`\n",
    "\n",
    "Each particle inside a jet has:\n",
    "##### ▪️ `pt` (transverse momentum)\n",
    "- Think of a particle flying out from a collision.\n",
    "- `pt` is how **strongly it moves sideways** (in the x–y plane) relative to the beam.\n",
    "##### ▪️ `y` (rapidity)\n",
    "- Describes how **fast a particle is moving along the beam direction (z-axis)**.\n",
    "- Similar to velocity but adapted for high-speed particles.\n",
    "- In practice, it helps group particles that came from the same collision.\n",
    "##### ▪️ `phi` (azimuthal angle)\n",
    "- This is like the **angle on a clock face**, but measured in radians (0 to 2π).\n",
    "- It tells **where around the beam pipe** the particle flew out.\n",
    "- Helps us reconstruct the direction of the particle in the detector.\n",
    "##### ▪️ `pid` (PDG ID)\n",
    "- This is a **code that tells us what kind of particle it is** (the particle's PDG id: http://pdg.lbl.gov/2018/reviews/rpp2018-rev-monte-carlo-numbering.pdf).\n",
    "- Negative numbers are antiparticles."
   ]
  },
  {
   "cell_type": "code",
   "execution_count": 27,
   "id": "5cef5aaa-01fc-44e2-8e17-5e6abce7643d",
   "metadata": {},
   "outputs": [
    {
     "data": {
      "text/plain": [
       "array([[[ 2.68769142e-01,  3.56903171e-01,  4.74138734e+00,\n",
       "          2.20000000e+01],\n",
       "        [ 1.60076377e-01, -2.55609533e-01,  4.55022910e+00,\n",
       "          2.20000000e+01],\n",
       "        [ 1.14868731e+00, -6.24380156e-02,  4.50385377e+00,\n",
       "         -2.11000000e+02],\n",
       "        ...,\n",
       "        [ 0.00000000e+00,  0.00000000e+00,  0.00000000e+00,\n",
       "          0.00000000e+00],\n",
       "        [ 0.00000000e+00,  0.00000000e+00,  0.00000000e+00,\n",
       "          0.00000000e+00],\n",
       "        [ 0.00000000e+00,  0.00000000e+00,  0.00000000e+00,\n",
       "          0.00000000e+00]],\n",
       "\n",
       "       [[ 1.21266321e+00, -1.12853089e-01,  3.04708757e+00,\n",
       "         -2.11000000e+02],\n",
       "        [ 2.40893976e-01, -1.67174886e-02,  2.82705667e+00,\n",
       "          2.20000000e+01],\n",
       "        [ 1.02778452e-01, -8.58720522e-02,  3.04180579e+00,\n",
       "          2.20000000e+01],\n",
       "        ...,\n",
       "        [ 0.00000000e+00,  0.00000000e+00,  0.00000000e+00,\n",
       "          0.00000000e+00],\n",
       "        [ 0.00000000e+00,  0.00000000e+00,  0.00000000e+00,\n",
       "          0.00000000e+00],\n",
       "        [ 0.00000000e+00,  0.00000000e+00,  0.00000000e+00,\n",
       "          0.00000000e+00]],\n",
       "\n",
       "       [[ 2.16829416e-01, -9.97057017e-01,  5.32568913e-01,\n",
       "          2.20000000e+01],\n",
       "        [ 2.31359397e-01, -1.59192211e+00,  2.02906587e-01,\n",
       "          2.20000000e+01],\n",
       "        [ 3.41572501e-01, -1.34588077e+00,  1.79910012e-01,\n",
       "          2.20000000e+01],\n",
       "        ...,\n",
       "        [ 0.00000000e+00,  0.00000000e+00,  0.00000000e+00,\n",
       "          0.00000000e+00],\n",
       "        [ 0.00000000e+00,  0.00000000e+00,  0.00000000e+00,\n",
       "          0.00000000e+00],\n",
       "        [ 0.00000000e+00,  0.00000000e+00,  0.00000000e+00,\n",
       "          0.00000000e+00]],\n",
       "\n",
       "       ...,\n",
       "\n",
       "       [[ 5.62305979e-01,  1.30600679e+00,  4.45584187e+00,\n",
       "          3.21000000e+02],\n",
       "        [ 5.33720850e-01,  1.27847224e+00,  4.63907136e+00,\n",
       "         -2.11200000e+03],\n",
       "        [ 8.22173394e-01,  7.12645581e-01,  4.70736440e+00,\n",
       "         -2.11000000e+02],\n",
       "        ...,\n",
       "        [ 0.00000000e+00,  0.00000000e+00,  0.00000000e+00,\n",
       "          0.00000000e+00],\n",
       "        [ 0.00000000e+00,  0.00000000e+00,  0.00000000e+00,\n",
       "          0.00000000e+00],\n",
       "        [ 0.00000000e+00,  0.00000000e+00,  0.00000000e+00,\n",
       "          0.00000000e+00]],\n",
       "\n",
       "       [[ 2.31124336e-01, -6.34761724e-02,  3.95621834e+00,\n",
       "          2.20000000e+01],\n",
       "        [ 1.28517426e+00, -7.18495606e-02,  3.79668946e+00,\n",
       "         -2.11000000e+02],\n",
       "        [ 2.69184416e+00,  2.79825145e-02,  4.10518218e+00,\n",
       "          2.11000000e+02],\n",
       "        ...,\n",
       "        [ 0.00000000e+00,  0.00000000e+00,  0.00000000e+00,\n",
       "          0.00000000e+00],\n",
       "        [ 0.00000000e+00,  0.00000000e+00,  0.00000000e+00,\n",
       "          0.00000000e+00],\n",
       "        [ 0.00000000e+00,  0.00000000e+00,  0.00000000e+00,\n",
       "          0.00000000e+00]],\n",
       "\n",
       "       [[ 3.04140138e-01,  7.21628966e-01,  1.25271426e+00,\n",
       "          2.20000000e+01],\n",
       "        [ 9.00649058e-01,  1.19311927e+00,  1.03353543e+00,\n",
       "          2.11000000e+02],\n",
       "        [ 1.54846983e-01,  1.37730434e+00,  1.24606922e+00,\n",
       "          2.11000000e+02],\n",
       "        ...,\n",
       "        [ 0.00000000e+00,  0.00000000e+00,  0.00000000e+00,\n",
       "          0.00000000e+00],\n",
       "        [ 0.00000000e+00,  0.00000000e+00,  0.00000000e+00,\n",
       "          0.00000000e+00],\n",
       "        [ 0.00000000e+00,  0.00000000e+00,  0.00000000e+00,\n",
       "          0.00000000e+00]]])"
      ]
     },
     "execution_count": 27,
     "metadata": {},
     "output_type": "execute_result"
    }
   ],
   "source": [
    "X"
   ]
  },
  {
   "cell_type": "code",
   "execution_count": 12,
   "id": "ee70a831-074c-44d8-badc-fe4e6fa8c6e3",
   "metadata": {},
   "outputs": [
    {
     "data": {
      "text/plain": [
       "array([1., 1., 1., ..., 1., 0., 0.])"
      ]
     },
     "execution_count": 12,
     "metadata": {},
     "output_type": "execute_result"
    }
   ],
   "source": [
    "y"
   ]
  },
  {
   "cell_type": "code",
   "execution_count": 25,
   "id": "8de81dfa-cc23-438d-842c-03b195907b1c",
   "metadata": {},
   "outputs": [
    {
     "name": "stdout",
     "output_type": "stream",
     "text": [
      "PID -2212.0: 67058 particles\n",
      "PID -2112.0: 66624 particles\n",
      "PID -321.0: 104245 particles\n",
      "PID -211.0: 864292 particles\n",
      "PID -13.0: 986 particles\n",
      "PID -11.0: 13314 particles\n",
      "PID 11.0: 13292 particles\n",
      "PID 13.0: 1047 particles\n",
      "PID 22.0: 1984333 particles\n",
      "PID 130.0: 103996 particles\n",
      "PID 211.0: 868068 particles\n",
      "PID 321.0: 106935 particles\n",
      "PID 2112.0: 68135 particles\n",
      "PID 2212.0: 68580 particles\n"
     ]
    }
   ],
   "source": [
    "# Print the unique types of particles (pid)\n",
    "\n",
    "pt = X[..., 0]\n",
    "pid = X[..., 3]\n",
    "\n",
    "# Mask out padded particles (where pt == 0)\n",
    "mask = pt > 0\n",
    "\n",
    "# Apply the mask to get valid pid values and cast to int\n",
    "pid_real = pid[mask]\n",
    "\n",
    "# Get unique values and their counts\n",
    "unique_pids, counts = np.unique(pid_real, return_counts=True)\n",
    "\n",
    "# Print top values\n",
    "for pid_val, count in zip(unique_pids, counts):\n",
    "    print(f\"PID {pid_val}: {count} particles\")"
   ]
  },
  {
   "cell_type": "code",
   "execution_count": 13,
   "id": "04ef2f44-78bb-4a23-bceb-51fe4bc21c68",
   "metadata": {},
   "outputs": [
    {
     "name": "stdout",
     "output_type": "stream",
     "text": [
      "Class 0.0: 50000 jets (50.00%)\n",
      "Class 1.0: 50000 jets (50.00%)\n"
     ]
    },
    {
     "data": {
      "image/png": "[encoded data removed]",
      "text/plain": [
       "<Figure size 640x480 with 1 Axes>"
      ]
     },
     "metadata": {},
     "output_type": "display_data"
    }
   ],
   "source": [
    "# Check how balanced the dataset is between quark (1) and gluon (0) jets\n",
    "\n",
    "classes, counts = np.unique(y, return_counts=True)\n",
    "for cls, cnt in zip(classes, counts):\n",
    "    print(f\"Class {cls}: {cnt} jets ({cnt / len(y) * 100:.2f}%)\")\n",
    "\n",
    "plt.bar([\"Gluon (0)\", \"Quark (1)\"], counts)\n",
    "plt.title(\"Jet Class Distribution\")\n",
    "plt.show()"
   ]
  },
  {
   "cell_type": "code",
   "execution_count": 15,
   "id": "b9cd8c62-06ee-4ca1-b397-65badc77d225",
   "metadata": {},
   "outputs": [
    {
     "data": {
      "image/png": "[encoded data removed]",
      "text/plain": [
       "<Figure size 640x480 with 1 Axes>"
      ]
     },
     "metadata": {},
     "output_type": "display_data"
    }
   ],
   "source": [
    "# Count the number of non-padded particles (non-zero pt) in each jet - how \"dense\" the jets are?\n",
    "\n",
    "nonzero_counts = np.count_nonzero(X[..., 0], axis=1)  # counting non-zero pt values per jet, because pt=0 indicates a padded (fake) particle\n",
    "\n",
    "plt.hist(nonzero_counts, bins=30)\n",
    "plt.xlabel(\"Number of real particles per jet\")\n",
    "plt.ylabel(\"Number of jets\")\n",
    "plt.title(\"Particle count per jet\")\n",
    "plt.show()"
   ]
  },
  {
   "cell_type": "markdown",
   "id": "9c1b5de0-7462-4a52-96e9-c8963afe29d7",
   "metadata": {},
   "source": [
    "- Most graphs (jets) will have 30–60 nodes (particles).\n",
    "- There’s no huge gap or odd spikes → this distribution looks natural and clean."
   ]
  },
  {
   "cell_type": "code",
   "execution_count": 17,
   "id": "e13e11f7-28eb-4c0d-911c-88132966c055",
   "metadata": {},
   "outputs": [
    {
     "data": {
      "image/png": "[encoded data removed]",
      "text/plain": [
       "<Figure size 1000x600 with 4 Axes>"
      ]
     },
     "metadata": {},
     "output_type": "display_data"
    }
   ],
   "source": [
    "df_particles.hist(figsize=(10, 6))\n",
    "plt.suptitle(\"Feature Distributions for All Particles\")\n",
    "plt.show()"
   ]
  },
  {
   "cell_type": "markdown",
   "id": "7ad99fce-6654-4aee-905c-943584cbdf4c",
   "metadata": {},
   "source": [
    "- PT:\n",
    "In real particle jets, many particles are low-energy — they carry very little sideways momentum.\n",
    "A few particles have higher pt, but they are rare.\n",
    "- Y: A symmetrical bell-shaped curve centered around 0.\n",
    "- Phi: Also a centered, symmetrical distribution around 0. Particles are uniformly spread around the circular detector.\n",
    "- Pid: Strong peak near 0 and then trailing values."
   ]
  },
  {
   "cell_type": "markdown",
   "id": "20be09df-386c-45e6-b236-3324534ab4a9",
   "metadata": {},
   "source": [
    "### EFN (Base model)"
   ]
  },
  {
   "cell_type": "markdown",
   "id": "ab4e2b6e-1464-4553-b790-9f72a94f4306",
   "metadata": {},
   "source": [
    "EFN is a simplified, physics-safe version of PFN:\n",
    "\n",
    "**Per-particle encoding (ϕ)**\n",
    "\n",
    "Only based on a particle’s angular information: (η, φ) relative to the jet axis.\n",
    "\n",
    "No momentum (pT) as input—this ensures infrared and collinear (IRC) safety, meaning the model behaves robustly when low-energy or closely aligned particles are added.\n",
    "\n",
    "**Energy weighting**\n",
    "\n",
    "After encoding angles, each particle’s encoding is multiplied by its energy fraction (usually normalized pT). This reintroduces energy information in a linear and safe way.\n",
    "\n",
    "**Summation and classification (F)**\n",
    "\n",
    "The weighted encodings are summed, then passed through a classifier network just like PFN."
   ]
  },
  {
   "cell_type": "code",
   "execution_count": 4,
   "id": "15c6f0c8-3ee6-413d-a657-71587e55da1e",
   "metadata": {},
   "outputs": [
    {
     "name": "stdout",
     "output_type": "stream",
     "text": [
      "Loaded quark and gluon jets\n"
     ]
    }
   ],
   "source": [
    "# ignore pid information\n",
    "X = X[:,:,:3]\n",
    "\n",
    "# convert labels to categorical\n",
    "Y = to_categorical(y, num_classes=2)\n",
    "\n",
    "print('Loaded quark and gluon jets')"
   ]
  },
  {
   "cell_type": "code",
   "execution_count": 5,
   "id": "70e5394b-5d44-4055-8a38-1fbb0cbded46",
   "metadata": {},
   "outputs": [
    {
     "name": "stdout",
     "output_type": "stream",
     "text": [
      "Finished preprocessing\n"
     ]
    }
   ],
   "source": [
    "# preprocess by centering jets and normalizing pts\n",
    "for x in X:\n",
    "    mask = x[:,0] > 0\n",
    "    yphi_avg = np.average(x[mask,1:3], weights=x[mask,0], axis=0)\n",
    "    x[mask,1:3] -= yphi_avg\n",
    "    x[mask,0] /= x[:,0].sum()\n",
    "\n",
    "print('Finished preprocessing')"
   ]
  },
  {
   "cell_type": "code",
   "execution_count": 6,
   "id": "de83044a-69f3-465d-956f-5c8a20a371a1",
   "metadata": {},
   "outputs": [
    {
     "name": "stdout",
     "output_type": "stream",
     "text": [
      "Done train/val/test split\n"
     ]
    }
   ],
   "source": [
    "# do train/val/test split\n",
    "(z_train, z_val, z_test,\n",
    " p_train, p_val, p_test,\n",
    " Y_train, Y_val, Y_test) = data_split(X[:,:,0], X[:,:,1:], Y, val=val, test=test)\n",
    "\n",
    "print('Done train/val/test split')"
   ]
  },
  {
   "cell_type": "code",
   "execution_count": 7,
   "id": "a96e1174-2d14-4720-bd0a-e7d8b067ed1c",
   "metadata": {},
   "outputs": [
    {
     "name": "stdout",
     "output_type": "stream",
     "text": [
      "Model summary:\n",
      "WARNING:tensorflow:From C:\\Users\\Kora\\Dev\\quark_gluon_classification\\.venv\\Lib\\site-packages\\tf_keras\\src\\backend.py:1400: The name tf.executing_eagerly_outside_functions is deprecated. Please use tf.compat.v1.executing_eagerly_outside_functions instead.\n",
      "\n",
      "WARNING:tensorflow:From C:\\Users\\Kora\\Dev\\quark_gluon_classification\\.venv\\Lib\\site-packages\\tf_keras\\src\\optimizers\\__init__.py:317: The name tf.train.Optimizer is deprecated. Please use tf.compat.v1.train.Optimizer instead.\n",
      "\n",
      "Model: \"model\"\n",
      "__________________________________________________________________________________________________\n",
      " Layer (type)                Output Shape                 Param #   Connected to                  \n",
      "==================================================================================================\n",
      " phats_input (InputLayer)    [(None, None, 2)]            0         []                            \n",
      "                                                                                                  \n",
      " tdist_0 (TimeDistributed)   (None, None, 100)            300       ['phats_input[0][0]']         \n",
      "                                                                                                  \n",
      " activation (Activation)     (None, None, 100)            0         ['tdist_0[0][0]']             \n",
      "                                                                                                  \n",
      " tdist_1 (TimeDistributed)   (None, None, 100)            10100     ['activation[0][0]']          \n",
      "                                                                                                  \n",
      " activation_1 (Activation)   (None, None, 100)            0         ['tdist_1[0][0]']             \n",
      "                                                                                                  \n",
      " zs_input (InputLayer)       [(None, None)]               0         []                            \n",
      "                                                                                                  \n",
      " tdist_2 (TimeDistributed)   (None, None, 128)            12928     ['activation_1[0][0]']        \n",
      "                                                                                                  \n",
      " mask (Lambda)               (None, None)                 0         ['zs_input[0][0]']            \n",
      "                                                                                                  \n",
      " activation_2 (Activation)   (None, None, 128)            0         ['tdist_2[0][0]']             \n",
      "                                                                                                  \n",
      " sum (Dot)                   (None, 128)                  0         ['mask[0][0]',                \n",
      "                                                                     'activation_2[0][0]']        \n",
      "                                                                                                  \n",
      " dense_0 (Dense)             (None, 100)                  12900     ['sum[0][0]']                 \n",
      "                                                                                                  \n",
      " activation_3 (Activation)   (None, 100)                  0         ['dense_0[0][0]']             \n",
      "                                                                                                  \n",
      " dense_1 (Dense)             (None, 100)                  10100     ['activation_3[0][0]']        \n",
      "                                                                                                  \n",
      " activation_4 (Activation)   (None, 100)                  0         ['dense_1[0][0]']             \n",
      "                                                                                                  \n",
      " dense_2 (Dense)             (None, 100)                  10100     ['activation_4[0][0]']        \n",
      "                                                                                                  \n",
      " activation_5 (Activation)   (None, 100)                  0         ['dense_2[0][0]']             \n",
      "                                                                                                  \n",
      " output (Dense)              (None, 2)                    202       ['activation_5[0][0]']        \n",
      "                                                                                                  \n",
      " activation_6 (Activation)   (None, 2)                    0         ['output[0][0]']              \n",
      "                                                                                                  \n",
      "==================================================================================================\n",
      "Total params: 56630 (221.21 KB)\n",
      "Trainable params: 56630 (221.21 KB)\n",
      "Non-trainable params: 0 (0.00 Byte)\n",
      "__________________________________________________________________________________________________\n",
      "Epoch 1/5\n",
      "WARNING:tensorflow:From C:\\Users\\Kora\\Dev\\quark_gluon_classification\\.venv\\Lib\\site-packages\\tf_keras\\src\\utils\\tf_utils.py:492: The name tf.ragged.RaggedTensorValue is deprecated. Please use tf.compat.v1.ragged.RaggedTensorValue instead.\n",
      "\n",
      "WARNING:tensorflow:From C:\\Users\\Kora\\Dev\\quark_gluon_classification\\.venv\\Lib\\site-packages\\tf_keras\\src\\engine\\base_layer_utils.py:384: The name tf.executing_eagerly_outside_functions is deprecated. Please use tf.compat.v1.executing_eagerly_outside_functions instead.\n",
      "\n",
      "150/150 [==============================] - 18s 110ms/step - loss: 0.5849 - acc: 0.6887 - val_loss: 0.5578 - val_acc: 0.7044\n",
      "Epoch 2/5\n",
      "150/150 [==============================] - 16s 107ms/step - loss: 0.5333 - acc: 0.7336 - val_loss: 0.5173 - val_acc: 0.7510\n",
      "Epoch 3/5\n",
      "150/150 [==============================] - 16s 109ms/step - loss: 0.5097 - acc: 0.7547 - val_loss: 0.5081 - val_acc: 0.7550\n",
      "Epoch 4/5\n",
      "150/150 [==============================] - 16s 107ms/step - loss: 0.5044 - acc: 0.7579 - val_loss: 0.5039 - val_acc: 0.7569\n",
      "Epoch 5/5\n",
      "150/150 [==============================] - 16s 108ms/step - loss: 0.4972 - acc: 0.7640 - val_loss: 0.4933 - val_acc: 0.7656\n",
      "150/150 [==============================] - 1s 5ms/step\n"
     ]
    }
   ],
   "source": [
    "print('Model summary:')\n",
    "\n",
    "# build architecture\n",
    "efn = EFN(input_dim=2, Phi_sizes=Phi_sizes, F_sizes=F_sizes)\n",
    "\n",
    "# train model\n",
    "efn.fit([z_train, p_train], Y_train,\n",
    "        epochs=num_epoch,\n",
    "        batch_size=batch_size,\n",
    "        validation_data=([z_val, p_val], Y_val),\n",
    "        verbose=1)\n",
    "\n",
    "# get predictions on test data\n",
    "preds = efn.predict([z_test, p_test], batch_size=100)"
   ]
  },
  {
   "cell_type": "code",
   "execution_count": 8,
   "id": "fe74a5f9-cdb5-4ef4-a3af-82e65c34c199",
   "metadata": {},
   "outputs": [
    {
     "name": "stdout",
     "output_type": "stream",
     "text": [
      "\n",
      "EFN AUC: 0.8367077127116207\n",
      "\n"
     ]
    }
   ],
   "source": [
    "# get ROC curve\n",
    "efn_fp, efn_tp, threshs = roc_curve(Y_test[:,1], preds[:,1])\n",
    "\n",
    "# get area under the ROC curve\n",
    "auc = roc_auc_score(Y_test[:,1], preds[:,1])\n",
    "print()\n",
    "print('EFN AUC:', auc)\n",
    "print()"
   ]
  },
  {
   "cell_type": "code",
   "execution_count": 9,
   "id": "c86e9ec7-81d9-4be4-8939-973828292ecf",
   "metadata": {},
   "outputs": [
    {
     "data": {
      "image/png": "[encoded data removed]",
      "text/plain": [
       "<Figure size 800x400 with 2 Axes>"
      ]
     },
     "metadata": {},
     "output_type": "display_data"
    }
   ],
   "source": [
    "# some nicer plot settings\n",
    "plt.rcParams['font.family'] = 'serif'\n",
    "plt.rcParams['figure.autolayout'] = True\n",
    "\n",
    "fig, axes = plt.subplots(1, 2, figsize=(8,4))"
   ]
  },
  {
   "cell_type": "code",
   "execution_count": 10,
   "id": "7d2d3634-96bf-4e1e-9dff-91edc66e829f",
   "metadata": {},
   "outputs": [
    {
     "data": {
      "text/plain": [
       "<matplotlib.legend.Legend at 0x2466c98f1a0>"
      ]
     },
     "execution_count": 10,
     "metadata": {},
     "output_type": "execute_result"
    }
   ],
   "source": [
    "######################### ROC Curve Plot #########################\n",
    "\n",
    "# get multiplicity and mass for comparison\n",
    "masses = np.asarray([ef.ms_from_p4s(ef.p4s_from_ptyphims(x).sum(axis=0)) for x in X])\n",
    "mults = np.asarray([np.count_nonzero(x[:,0]) for x in X])\n",
    "mass_fp, mass_tp, threshs = roc_curve(Y[:,1], -masses)\n",
    "mult_fp, mult_tp, threshs = roc_curve(Y[:,1], -mults)\n",
    "\n",
    "# plot the ROC curves\n",
    "axes[0].plot(efn_tp, 1-efn_fp, '-', color='black', label='EFN')\n",
    "axes[0].plot(mass_tp, 1-mass_fp, '-', color='blue', label='Jet Mass')\n",
    "axes[0].plot(mult_tp, 1-mult_fp, '-', color='red', label='Multiplicity')\n",
    "\n",
    "# axes labels\n",
    "axes[0].set_xlabel('Quark Jet Efficiency')\n",
    "axes[0].set_ylabel('Gluon Jet Rejection')\n",
    "\n",
    "# axes limits\n",
    "axes[0].set_xlim(0, 1)\n",
    "axes[0].set_ylim(0, 1)\n",
    "\n",
    "# make legend and show plot\n",
    "axes[0].legend(loc='lower left', frameon=False)\n",
    "\n",
    "# display(fig)"
   ]
  },
  {
   "cell_type": "code",
   "execution_count": 12,
   "id": "6a1e4ea1-5325-49ff-a5a2-54bf54286773",
   "metadata": {},
   "outputs": [
    {
     "data": {
      "text/plain": [
       "Text(0.5, 1.0, 'Energy Flow Network Latent Space')"
      ]
     },
     "execution_count": 12,
     "metadata": {},
     "output_type": "execute_result"
    }
   ],
   "source": [
    "######################### Filter Plot (map of the jet’s internal shape) #########################\n",
    "\n",
    "# plot settings\n",
    "R, n = 0.4, 100\n",
    "colors = ['Reds', 'Oranges', 'Greens', 'Blues', 'Purples', 'Greys']\n",
    "grads = np.linspace(0.45, 0.55, 4)\n",
    "\n",
    "# evaluate filters\n",
    "X, Y, Z = efn.eval_filters(R, n=n)\n",
    "\n",
    "# plot filters\n",
    "for i,z in enumerate(Z):\n",
    "    axes[1].contourf(X, Y, z/np.max(z), grads, cmap=colors[i%len(colors)])\n",
    "\n",
    "axes[1].set_xticks(np.linspace(-R, R, 5))\n",
    "axes[1].set_yticks(np.linspace(-R, R, 5))\n",
    "axes[1].set_xticklabels(['-R', '-R/2', '0', 'R/2', 'R'])\n",
    "axes[1].set_yticklabels(['-R', '-R/2', '0', 'R/2', 'R'])\n",
    "axes[1].set_xlabel('Translated Rapidity y')\n",
    "axes[1].set_ylabel('Translated Azimuthal Angle phi')\n",
    "axes[1].set_title('Energy Flow Network Latent Space', fontdict={'fontsize': 10})\n",
    "\n",
    "# plt.show()"
   ]
  },
  {
   "cell_type": "code",
   "execution_count": 13,
   "id": "56ef5b9e-7eb1-4b73-98d6-2da844e2a659",
   "metadata": {},
   "outputs": [
    {
     "data": {
      "image/png": "[encoded data removed]",
      "text/plain": [
       "<Figure size 800x400 with 2 Axes>"
      ]
     },
     "metadata": {},
     "output_type": "display_data"
    }
   ],
   "source": [
    "display(fig)"
   ]
  },
  {
   "cell_type": "markdown",
   "id": "d13261a4-03f9-4564-a0b2-a54c7bde0bca",
   "metadata": {},
   "source": [
    "We're calculating:\n",
    "\n",
    "- **Jet multiplicity**: number of real (non-padded) particles in each jet.\n",
    "\n",
    "Gluon jets tend to have more particles than quark jets.\n",
    "\n",
    "So multiplicity is another cheap, physics-based feature that works OK.\n",
    "\n",
    "- **Jet mass**: total mass of the jet based on its particles’ momenta.\n",
    "\n",
    "Gluon jets tend to radiate more, creating a wider spray → higher jet mass.\n",
    "\n",
    "So:\n",
    "\n",
    "Jet mass is a rough but effective discriminator.\n",
    "\n",
    "If PFN can't beat it → maybe your model is underperforming."
   ]
  },
  {
   "cell_type": "markdown",
   "id": "7a32f125-458c-45af-b2a1-643e2c04530f",
   "metadata": {},
   "source": [
    "### PFN"
   ]
  },
  {
   "cell_type": "markdown",
   "id": "9b723380-17b4-44f7-8914-ff27184c10f2",
   "metadata": {},
   "source": [
    "**Per-particle encoding (ϕ)**\n",
    "\n",
    "Each particle in the jet (node) is transformed individually using a small neural network (like a fully‑connected layer).\n",
    "\n",
    "Input features include momentum (pT, η, φ), charge, flavor, or pid.\n",
    "\n",
    "**Summation (permutation-invariant pooling)**\n",
    "\n",
    "All particle encodings are summed together, producing a single fixed-size vector for the entire jet.\n",
    "\n",
    "This ensures the model treats the jet as a set, not as an ordered list.\n",
    "\n",
    "**Jet-level classifier (F)**\n",
    "\n",
    "A final neural network processes the summed vector to classify the jet (e.g., quark vs. gluon).\n",
    "\n",
    "So PFN learns: individual particle patterns, sums them up, then decides jet class — flexible and powerful"
   ]
  },
  {
   "cell_type": "code",
   "execution_count": 14,
   "id": "f42a98af-e6b5-402f-9d1f-1718ddf79f5b",
   "metadata": {},
   "outputs": [],
   "source": [
    "X, y = qg_jets.load(train + val + test)"
   ]
  },
  {
   "cell_type": "code",
   "execution_count": 15,
   "id": "8d59da6e-69ce-4cd4-bccb-50ff1ce00e0c",
   "metadata": {},
   "outputs": [
    {
     "name": "stdout",
     "output_type": "stream",
     "text": [
      "Finished preprocessing\n"
     ]
    }
   ],
   "source": [
    "# preprocess by centering jets and normalizing pts\n",
    "use_pids = True\n",
    "\n",
    "for x in X:\n",
    "    mask = x[:,0] > 0\n",
    "    yphi_avg = np.average(x[mask,1:3], weights=x[mask,0], axis=0)\n",
    "    x[mask,1:3] -= yphi_avg\n",
    "    x[mask,0] /= x[:,0].sum()\n",
    "\n",
    "# handle particle id channel\n",
    "if use_pids:\n",
    "    remap_pids(X, pid_i=3, error_on_unknown=False)\n",
    "else:\n",
    "    X = X[:,:,:3]\n",
    "\n",
    "print('Finished preprocessing')"
   ]
  },
  {
   "cell_type": "code",
   "execution_count": 16,
   "id": "d6c0c313-6864-4604-8dad-50865cb3d44c",
   "metadata": {},
   "outputs": [],
   "source": [
    "# convert labels to categorical\n",
    "Y = to_categorical(y, num_classes=2)"
   ]
  },
  {
   "cell_type": "code",
   "execution_count": 17,
   "id": "863000d8-cc50-4493-aea1-3a18980411ae",
   "metadata": {},
   "outputs": [
    {
     "name": "stdout",
     "output_type": "stream",
     "text": [
      "Done train/val/test split\n"
     ]
    }
   ],
   "source": [
    "# do train/val/test split\n",
    "(X_train, X_val, X_test,\n",
    " Y_train, Y_val, Y_test) = data_split(X, Y, val=val, test=test)\n",
    "\n",
    "print('Done train/val/test split')"
   ]
  },
  {
   "cell_type": "code",
   "execution_count": 18,
   "id": "085b87d3-177a-4880-93d7-866d5783903e",
   "metadata": {},
   "outputs": [
    {
     "name": "stdout",
     "output_type": "stream",
     "text": [
      "Model summary:\n",
      "Model: \"model_2\"\n",
      "__________________________________________________________________________________________________\n",
      " Layer (type)                Output Shape                 Param #   Connected to                  \n",
      "==================================================================================================\n",
      " input (InputLayer)          [(None, None, 4)]            0         []                            \n",
      "                                                                                                  \n",
      " tdist_0 (TimeDistributed)   (None, None, 100)            500       ['input[0][0]']               \n",
      "                                                                                                  \n",
      " activation_7 (Activation)   (None, None, 100)            0         ['tdist_0[0][0]']             \n",
      "                                                                                                  \n",
      " tdist_1 (TimeDistributed)   (None, None, 100)            10100     ['activation_7[0][0]']        \n",
      "                                                                                                  \n",
      " activation_8 (Activation)   (None, None, 100)            0         ['tdist_1[0][0]']             \n",
      "                                                                                                  \n",
      " tdist_2 (TimeDistributed)   (None, None, 128)            12928     ['activation_8[0][0]']        \n",
      "                                                                                                  \n",
      " mask (Lambda)               (None, None)                 0         ['input[0][0]']               \n",
      "                                                                                                  \n",
      " activation_9 (Activation)   (None, None, 128)            0         ['tdist_2[0][0]']             \n",
      "                                                                                                  \n",
      " sum (Dot)                   (None, 128)                  0         ['mask[0][0]',                \n",
      "                                                                     'activation_9[0][0]']        \n",
      "                                                                                                  \n",
      " dense_0 (Dense)             (None, 100)                  12900     ['sum[0][0]']                 \n",
      "                                                                                                  \n",
      " activation_10 (Activation)  (None, 100)                  0         ['dense_0[0][0]']             \n",
      "                                                                                                  \n",
      " dense_1 (Dense)             (None, 100)                  10100     ['activation_10[0][0]']       \n",
      "                                                                                                  \n",
      " activation_11 (Activation)  (None, 100)                  0         ['dense_1[0][0]']             \n",
      "                                                                                                  \n",
      " dense_2 (Dense)             (None, 100)                  10100     ['activation_11[0][0]']       \n",
      "                                                                                                  \n",
      " activation_12 (Activation)  (None, 100)                  0         ['dense_2[0][0]']             \n",
      "                                                                                                  \n",
      " output (Dense)              (None, 2)                    202       ['activation_12[0][0]']       \n",
      "                                                                                                  \n",
      " activation_13 (Activation)  (None, 2)                    0         ['output[0][0]']              \n",
      "                                                                                                  \n",
      "==================================================================================================\n",
      "Total params: 56830 (221.99 KB)\n",
      "Trainable params: 56830 (221.99 KB)\n",
      "Non-trainable params: 0 (0.00 Byte)\n",
      "__________________________________________________________________________________________________\n",
      "Epoch 1/5\n",
      "150/150 [==============================] - 18s 112ms/step - loss: 0.5253 - acc: 0.7572 - val_loss: 0.4629 - val_acc: 0.7867\n",
      "Epoch 2/5\n",
      "150/150 [==============================] - 16s 107ms/step - loss: 0.4694 - acc: 0.7829 - val_loss: 0.4576 - val_acc: 0.7908\n",
      "Epoch 3/5\n",
      "150/150 [==============================] - 16s 107ms/step - loss: 0.4632 - acc: 0.7869 - val_loss: 0.4788 - val_acc: 0.7708\n",
      "Epoch 4/5\n",
      "150/150 [==============================] - 16s 108ms/step - loss: 0.4571 - acc: 0.7902 - val_loss: 0.4491 - val_acc: 0.7976\n",
      "Epoch 5/5\n",
      "150/150 [==============================] - 16s 108ms/step - loss: 0.4539 - acc: 0.7910 - val_loss: 0.4571 - val_acc: 0.7900\n",
      "15/15 [==============================] - 1s 74ms/step\n"
     ]
    }
   ],
   "source": [
    "print('Model summary:')\n",
    "\n",
    "# build architecture\n",
    "pfn = PFN(input_dim=X.shape[-1], Phi_sizes=Phi_sizes, F_sizes=F_sizes)\n",
    "\n",
    "# train model\n",
    "pfn.fit(X_train, Y_train,\n",
    "        epochs=num_epoch,\n",
    "        batch_size=batch_size,\n",
    "        validation_data=(X_val, Y_val),\n",
    "        verbose=1)\n",
    "\n",
    "# get predictions on test data\n",
    "preds = pfn.predict(X_test, batch_size=1000)"
   ]
  },
  {
   "cell_type": "code",
   "execution_count": 19,
   "id": "6d7ebce3-5f0a-4627-8a43-46a10c1132b7",
   "metadata": {},
   "outputs": [
    {
     "name": "stdout",
     "output_type": "stream",
     "text": [
      "\n",
      "PFN AUC: 0.8677472373136876\n",
      "\n"
     ]
    }
   ],
   "source": [
    "# get ROC curve\n",
    "pfn_fp, pfn_tp, threshs = roc_curve(Y_test[:,1], preds[:,1])\n",
    "\n",
    "# get area under the ROC curve\n",
    "auc = roc_auc_score(Y_test[:,1], preds[:,1])\n",
    "print()\n",
    "print('PFN AUC:', auc)\n",
    "print()"
   ]
  },
  {
   "cell_type": "code",
   "execution_count": 20,
   "id": "6a4084b3-8535-43d2-85bd-4c7f4ef5c3db",
   "metadata": {},
   "outputs": [
    {
     "data": {
      "image/png": "[encoded data removed]",
      "text/plain": [
       "<Figure size 400x400 with 1 Axes>"
      ]
     },
     "metadata": {},
     "output_type": "display_data"
    }
   ],
   "source": [
    "# get multiplicity and mass for comparison\n",
    "masses = np.asarray([ef.ms_from_p4s(ef.p4s_from_ptyphims(x).sum(axis=0)) for x in X])\n",
    "mults = np.asarray([np.count_nonzero(x[:,0]) for x in X])\n",
    "mass_fp, mass_tp, threshs = roc_curve(Y[:,1], -masses)\n",
    "mult_fp, mult_tp, threshs = roc_curve(Y[:,1], -mults)\n",
    "\n",
    "# some nicer plot settings\n",
    "plt.rcParams['figure.figsize'] = (4,4)\n",
    "plt.rcParams['font.family'] = 'serif'\n",
    "plt.rcParams['figure.autolayout'] = True\n",
    "\n",
    "# plot the ROC curves\n",
    "plt.plot(pfn_tp, 1-pfn_fp, '-', color='black', label='PFN')\n",
    "plt.plot(mass_tp, 1-mass_fp, '-', color='blue', label='Jet Mass')\n",
    "plt.plot(mult_tp, 1-mult_fp, '-', color='red', label='Multiplicity')\n",
    "\n",
    "# axes labels\n",
    "plt.xlabel('Quark Jet Efficiency')\n",
    "plt.ylabel('Gluon Jet Rejection')\n",
    "\n",
    "# axes limits\n",
    "plt.xlim(0, 1)\n",
    "plt.ylim(0, 1)\n",
    "\n",
    "# make legend and show plot\n",
    "plt.legend(loc='lower left', frameon=False)\n",
    "plt.show()"
   ]
  },
  {
   "cell_type": "markdown",
   "id": "b183a86f-9742-49dc-927d-a69839e6a81d",
   "metadata": {},
   "source": [
    "### PFN with one-hot-encoding of PIDs"
   ]
  },
  {
   "cell_type": "code",
   "execution_count": 3,
   "id": "d8e5cf4a-6f48-4284-aee3-d0c5d0550f50",
   "metadata": {},
   "outputs": [],
   "source": [
    "X, y = qg_jets.load(train + val + test)"
   ]
  },
  {
   "cell_type": "code",
   "execution_count": 4,
   "id": "697b5f54-a962-49eb-b4fd-8693ac9da0e2",
   "metadata": {},
   "outputs": [],
   "source": [
    "def one_hot_encode_pids(X, pid_to_index, num_pid_types):\n",
    "    X_new = []\n",
    "\n",
    "    for jet in X:\n",
    "        pt = jet[:,0][:, None]  # shape (n, 1)\n",
    "        yphi = jet[:,1:3]       # shape (n, 2)\n",
    "        pid = jet[:,3]          # shape (n,)\n",
    "\n",
    "        # create one-hot encodings\n",
    "        onehot = np.zeros((jet.shape[0], num_pid_types))\n",
    "        for i, p in enumerate(pid):\n",
    "            if p in pid_to_index:\n",
    "                onehot[i, pid_to_index[p]] = 1\n",
    "\n",
    "        # combine: pt + yphi + onehot(pid)\n",
    "        combined = np.concatenate([pt, yphi, onehot], axis=1)\n",
    "        X_new.append(combined)\n",
    "\n",
    "    return np.array(X_new)"
   ]
  },
  {
   "cell_type": "code",
   "execution_count": 5,
   "id": "962d10a1-3ce7-4abd-9582-ebe14fe14a5b",
   "metadata": {},
   "outputs": [],
   "source": [
    "# handle particle id channel\n",
    "\n",
    "use_pids = True\n",
    "\n",
    "for x in X:\n",
    "    mask = x[:,0] > 0\n",
    "    yphi_avg = np.average(x[mask,1:3], weights=x[mask,0], axis=0)\n",
    "    x[mask,1:3] -= yphi_avg\n",
    "    x[mask,0] /= x[:,0].sum()\n",
    "\n",
    "if use_pids:\n",
    "    # Extract unique PID values from the dataset\n",
    "    pid_vals = np.unique(X[:,:,3][X[:,:,0] > 0])\n",
    "    pid_to_index = {pid: i for i, pid in enumerate(pid_vals)}\n",
    "    num_pid_types = len(pid_vals)\n",
    "    X = one_hot_encode_pids(X, pid_to_index, num_pid_types)\n",
    "else:\n",
    "    X = X[:,:,:3]"
   ]
  },
  {
   "cell_type": "code",
   "execution_count": 6,
   "id": "109aedad-6a92-4750-949d-aca11fa040f9",
   "metadata": {},
   "outputs": [
    {
     "data": {
      "text/plain": [
       "array([[[ 5.36661112e-04,  3.86938282e-01, -8.96080222e-03, ...,\n",
       "          0.00000000e+00,  0.00000000e+00,  0.00000000e+00],\n",
       "        [ 3.19630318e-04, -2.25574422e-01, -2.00119039e-01, ...,\n",
       "          0.00000000e+00,  0.00000000e+00,  0.00000000e+00],\n",
       "        [ 2.29362569e-03, -3.24029049e-02, -2.46494377e-01, ...,\n",
       "          0.00000000e+00,  0.00000000e+00,  0.00000000e+00],\n",
       "        ...,\n",
       "        [ 0.00000000e+00,  0.00000000e+00,  0.00000000e+00, ...,\n",
       "          0.00000000e+00,  0.00000000e+00,  0.00000000e+00],\n",
       "        [ 0.00000000e+00,  0.00000000e+00,  0.00000000e+00, ...,\n",
       "          0.00000000e+00,  0.00000000e+00,  0.00000000e+00],\n",
       "        [ 0.00000000e+00,  0.00000000e+00,  0.00000000e+00, ...,\n",
       "          0.00000000e+00,  0.00000000e+00,  0.00000000e+00]],\n",
       "\n",
       "       [[ 2.28026381e-03, -3.64023862e-01,  1.05785216e-03, ...,\n",
       "          0.00000000e+00,  0.00000000e+00,  0.00000000e+00],\n",
       "        [ 4.52971452e-04, -2.67888261e-01, -2.18973045e-01, ...,\n",
       "          0.00000000e+00,  0.00000000e+00,  0.00000000e+00],\n",
       "        [ 1.93262221e-04, -3.37042825e-01, -4.22392551e-03, ...,\n",
       "          0.00000000e+00,  0.00000000e+00,  0.00000000e+00],\n",
       "        ...,\n",
       "        [ 0.00000000e+00,  0.00000000e+00,  0.00000000e+00, ...,\n",
       "          0.00000000e+00,  0.00000000e+00,  0.00000000e+00],\n",
       "        [ 0.00000000e+00,  0.00000000e+00,  0.00000000e+00, ...,\n",
       "          0.00000000e+00,  0.00000000e+00,  0.00000000e+00],\n",
       "        [ 0.00000000e+00,  0.00000000e+00,  0.00000000e+00, ...,\n",
       "          0.00000000e+00,  0.00000000e+00,  0.00000000e+00]],\n",
       "\n",
       "       [[ 4.27577272e-04,  3.92151975e-01,  1.17097287e-02, ...,\n",
       "          0.00000000e+00,  0.00000000e+00,  0.00000000e+00],\n",
       "        [ 4.56229701e-04, -2.02713115e-01, -3.17952597e-01, ...,\n",
       "          0.00000000e+00,  0.00000000e+00,  0.00000000e+00],\n",
       "        [ 6.73564687e-04,  4.33282226e-02, -3.40949172e-01, ...,\n",
       "          0.00000000e+00,  0.00000000e+00,  0.00000000e+00],\n",
       "        ...,\n",
       "        [ 0.00000000e+00,  0.00000000e+00,  0.00000000e+00, ...,\n",
       "          0.00000000e+00,  0.00000000e+00,  0.00000000e+00],\n",
       "        [ 0.00000000e+00,  0.00000000e+00,  0.00000000e+00, ...,\n",
       "          0.00000000e+00,  0.00000000e+00,  0.00000000e+00],\n",
       "        [ 0.00000000e+00,  0.00000000e+00,  0.00000000e+00, ...,\n",
       "          0.00000000e+00,  0.00000000e+00,  0.00000000e+00]],\n",
       "\n",
       "       ...,\n",
       "\n",
       "       [[ 1.02577787e-03,  3.30027518e-01, -7.56017210e-02, ...,\n",
       "          1.00000000e+00,  0.00000000e+00,  0.00000000e+00],\n",
       "        [ 9.73631902e-04,  3.02492966e-01,  1.07627776e-01, ...,\n",
       "          0.00000000e+00,  0.00000000e+00,  0.00000000e+00],\n",
       "        [ 1.49983694e-03, -2.63333694e-01,  1.75920812e-01, ...,\n",
       "          0.00000000e+00,  0.00000000e+00,  0.00000000e+00],\n",
       "        ...,\n",
       "        [ 0.00000000e+00,  0.00000000e+00,  0.00000000e+00, ...,\n",
       "          0.00000000e+00,  0.00000000e+00,  0.00000000e+00],\n",
       "        [ 0.00000000e+00,  0.00000000e+00,  0.00000000e+00, ...,\n",
       "          0.00000000e+00,  0.00000000e+00,  0.00000000e+00],\n",
       "        [ 0.00000000e+00,  0.00000000e+00,  0.00000000e+00, ...,\n",
       "          0.00000000e+00,  0.00000000e+00,  0.00000000e+00]],\n",
       "\n",
       "       [[ 4.23509035e-04, -3.70010219e-01,  1.09270268e-01, ...,\n",
       "          0.00000000e+00,  0.00000000e+00,  0.00000000e+00],\n",
       "        [ 2.35493553e-03, -3.78383607e-01, -5.02586057e-02, ...,\n",
       "          0.00000000e+00,  0.00000000e+00,  0.00000000e+00],\n",
       "        [ 4.93249799e-03, -2.78551532e-01,  2.58234115e-01, ...,\n",
       "          0.00000000e+00,  0.00000000e+00,  0.00000000e+00],\n",
       "        ...,\n",
       "        [ 0.00000000e+00,  0.00000000e+00,  0.00000000e+00, ...,\n",
       "          0.00000000e+00,  0.00000000e+00,  0.00000000e+00],\n",
       "        [ 0.00000000e+00,  0.00000000e+00,  0.00000000e+00, ...,\n",
       "          0.00000000e+00,  0.00000000e+00,  0.00000000e+00],\n",
       "        [ 0.00000000e+00,  0.00000000e+00,  0.00000000e+00, ...,\n",
       "          0.00000000e+00,  0.00000000e+00,  0.00000000e+00]],\n",
       "\n",
       "       [[ 5.57191472e-04, -3.35291652e-01, -9.51708580e-02, ...,\n",
       "          0.00000000e+00,  0.00000000e+00,  0.00000000e+00],\n",
       "        [ 1.65000903e-03,  1.36198655e-01, -3.14349687e-01, ...,\n",
       "          0.00000000e+00,  0.00000000e+00,  0.00000000e+00],\n",
       "        [ 2.83683104e-04,  3.20383720e-01, -1.01815894e-01, ...,\n",
       "          0.00000000e+00,  0.00000000e+00,  0.00000000e+00],\n",
       "        ...,\n",
       "        [ 0.00000000e+00,  0.00000000e+00,  0.00000000e+00, ...,\n",
       "          0.00000000e+00,  0.00000000e+00,  0.00000000e+00],\n",
       "        [ 0.00000000e+00,  0.00000000e+00,  0.00000000e+00, ...,\n",
       "          0.00000000e+00,  0.00000000e+00,  0.00000000e+00],\n",
       "        [ 0.00000000e+00,  0.00000000e+00,  0.00000000e+00, ...,\n",
       "          0.00000000e+00,  0.00000000e+00,  0.00000000e+00]]])"
      ]
     },
     "execution_count": 6,
     "metadata": {},
     "output_type": "execute_result"
    }
   ],
   "source": [
    "X"
   ]
  },
  {
   "cell_type": "code",
   "execution_count": 7,
   "id": "ea98a4bc-0a21-4481-aaa1-0ada6c5c78bb",
   "metadata": {},
   "outputs": [],
   "source": [
    "# convert labels to categorical\n",
    "Y = to_categorical(y, num_classes=2)"
   ]
  },
  {
   "cell_type": "code",
   "execution_count": 8,
   "id": "892d4b4d-c10d-4b50-9f27-271467fe699c",
   "metadata": {},
   "outputs": [
    {
     "name": "stdout",
     "output_type": "stream",
     "text": [
      "Done train/val/test split\n"
     ]
    }
   ],
   "source": [
    "# do train/val/test split\n",
    "(X_train, X_val, X_test,\n",
    " Y_train, Y_val, Y_test) = data_split(X, Y, val=val, test=test)\n",
    "\n",
    "print('Done train/val/test split')"
   ]
  },
  {
   "cell_type": "code",
   "execution_count": 9,
   "id": "4960cba1-7d1e-46ce-986f-656b32a700a2",
   "metadata": {},
   "outputs": [
    {
     "name": "stdout",
     "output_type": "stream",
     "text": [
      "Model summary:\n",
      "WARNING:tensorflow:From C:\\Users\\Kora\\Dev\\quark_gluon_classification\\.venv\\Lib\\site-packages\\tf_keras\\src\\backend.py:1400: The name tf.executing_eagerly_outside_functions is deprecated. Please use tf.compat.v1.executing_eagerly_outside_functions instead.\n",
      "\n",
      "WARNING:tensorflow:From C:\\Users\\Kora\\Dev\\quark_gluon_classification\\.venv\\Lib\\site-packages\\tf_keras\\src\\optimizers\\__init__.py:317: The name tf.train.Optimizer is deprecated. Please use tf.compat.v1.train.Optimizer instead.\n",
      "\n",
      "Model: \"model\"\n",
      "__________________________________________________________________________________________________\n",
      " Layer (type)                Output Shape                 Param #   Connected to                  \n",
      "==================================================================================================\n",
      " input (InputLayer)          [(None, None, 17)]           0         []                            \n",
      "                                                                                                  \n",
      " tdist_0 (TimeDistributed)   (None, None, 100)            1800      ['input[0][0]']               \n",
      "                                                                                                  \n",
      " activation (Activation)     (None, None, 100)            0         ['tdist_0[0][0]']             \n",
      "                                                                                                  \n",
      " tdist_1 (TimeDistributed)   (None, None, 100)            10100     ['activation[0][0]']          \n",
      "                                                                                                  \n",
      " activation_1 (Activation)   (None, None, 100)            0         ['tdist_1[0][0]']             \n",
      "                                                                                                  \n",
      " tdist_2 (TimeDistributed)   (None, None, 128)            12928     ['activation_1[0][0]']        \n",
      "                                                                                                  \n",
      " mask (Lambda)               (None, None)                 0         ['input[0][0]']               \n",
      "                                                                                                  \n",
      " activation_2 (Activation)   (None, None, 128)            0         ['tdist_2[0][0]']             \n",
      "                                                                                                  \n",
      " sum (Dot)                   (None, 128)                  0         ['mask[0][0]',                \n",
      "                                                                     'activation_2[0][0]']        \n",
      "                                                                                                  \n",
      " dense_0 (Dense)             (None, 100)                  12900     ['sum[0][0]']                 \n",
      "                                                                                                  \n",
      " activation_3 (Activation)   (None, 100)                  0         ['dense_0[0][0]']             \n",
      "                                                                                                  \n",
      " dense_1 (Dense)             (None, 100)                  10100     ['activation_3[0][0]']        \n",
      "                                                                                                  \n",
      " activation_4 (Activation)   (None, 100)                  0         ['dense_1[0][0]']             \n",
      "                                                                                                  \n",
      " dense_2 (Dense)             (None, 100)                  10100     ['activation_4[0][0]']        \n",
      "                                                                                                  \n",
      " activation_5 (Activation)   (None, 100)                  0         ['dense_2[0][0]']             \n",
      "                                                                                                  \n",
      " output (Dense)              (None, 2)                    202       ['activation_5[0][0]']        \n",
      "                                                                                                  \n",
      " activation_6 (Activation)   (None, 2)                    0         ['output[0][0]']              \n",
      "                                                                                                  \n",
      "==================================================================================================\n",
      "Total params: 58130 (227.07 KB)\n",
      "Trainable params: 58130 (227.07 KB)\n",
      "Non-trainable params: 0 (0.00 Byte)\n",
      "__________________________________________________________________________________________________\n",
      "Epoch 1/15\n",
      "WARNING:tensorflow:From C:\\Users\\Kora\\Dev\\quark_gluon_classification\\.venv\\Lib\\site-packages\\tf_keras\\src\\utils\\tf_utils.py:492: The name tf.ragged.RaggedTensorValue is deprecated. Please use tf.compat.v1.ragged.RaggedTensorValue instead.\n",
      "\n",
      "WARNING:tensorflow:From C:\\Users\\Kora\\Dev\\quark_gluon_classification\\.venv\\Lib\\site-packages\\tf_keras\\src\\engine\\base_layer_utils.py:384: The name tf.executing_eagerly_outside_functions is deprecated. Please use tf.compat.v1.executing_eagerly_outside_functions instead.\n",
      "\n",
      "150/150 [==============================] - 20s 125ms/step - loss: 0.8001 - acc: 0.6452 - val_loss: 0.5487 - val_acc: 0.7386\n",
      "Epoch 2/15\n",
      "150/150 [==============================] - 17s 114ms/step - loss: 0.5089 - acc: 0.7619 - val_loss: 0.4795 - val_acc: 0.7833\n",
      "Epoch 3/15\n",
      "150/150 [==============================] - 17s 112ms/step - loss: 0.4808 - acc: 0.7768 - val_loss: 0.4664 - val_acc: 0.7878\n",
      "Epoch 4/15\n",
      "150/150 [==============================] - 16s 108ms/step - loss: 0.4683 - acc: 0.7846 - val_loss: 0.4657 - val_acc: 0.7845\n",
      "Epoch 5/15\n",
      "150/150 [==============================] - 16s 108ms/step - loss: 0.4672 - acc: 0.7852 - val_loss: 0.4567 - val_acc: 0.7903\n",
      "Epoch 6/15\n",
      "150/150 [==============================] - 17s 113ms/step - loss: 0.4686 - acc: 0.7843 - val_loss: 0.4614 - val_acc: 0.7875\n",
      "Epoch 7/15\n",
      "150/150 [==============================] - 16s 108ms/step - loss: 0.4633 - acc: 0.7860 - val_loss: 0.4545 - val_acc: 0.7919\n",
      "Epoch 8/15\n",
      "150/150 [==============================] - 16s 107ms/step - loss: 0.4614 - acc: 0.7890 - val_loss: 0.4545 - val_acc: 0.7918\n",
      "Epoch 9/15\n",
      "150/150 [==============================] - 16s 107ms/step - loss: 0.4592 - acc: 0.7897 - val_loss: 0.4572 - val_acc: 0.7885\n",
      "Epoch 10/15\n",
      "150/150 [==============================] - 16s 108ms/step - loss: 0.4590 - acc: 0.7895 - val_loss: 0.4498 - val_acc: 0.7945\n",
      "Epoch 11/15\n",
      "150/150 [==============================] - 16s 107ms/step - loss: 0.4536 - acc: 0.7918 - val_loss: 0.4461 - val_acc: 0.7944\n",
      "Epoch 12/15\n",
      "150/150 [==============================] - 16s 106ms/step - loss: 0.4545 - acc: 0.7923 - val_loss: 0.4558 - val_acc: 0.7908\n",
      "Epoch 13/15\n",
      "150/150 [==============================] - 16s 108ms/step - loss: 0.4516 - acc: 0.7948 - val_loss: 0.4541 - val_acc: 0.7920\n",
      "Epoch 14/15\n",
      "150/150 [==============================] - 16s 107ms/step - loss: 0.4516 - acc: 0.7940 - val_loss: 0.4540 - val_acc: 0.7953\n",
      "Epoch 15/15\n",
      "150/150 [==============================] - 16s 107ms/step - loss: 0.4515 - acc: 0.7933 - val_loss: 0.4406 - val_acc: 0.8010\n",
      "15/15 [==============================] - 1s 77ms/step\n"
     ]
    }
   ],
   "source": [
    "print('Model summary:')\n",
    "\n",
    "# build architecture\n",
    "pfn = PFN(input_dim=X.shape[-1], Phi_sizes=Phi_sizes, F_sizes=F_sizes)\n",
    "\n",
    "num_epoch = 15\n",
    "\n",
    "# train model\n",
    "pfn.fit(X_train, Y_train,\n",
    "        epochs=num_epoch,\n",
    "        batch_size=batch_size,\n",
    "        validation_data=(X_val, Y_val),\n",
    "        verbose=1)\n",
    "\n",
    "# get predictions on test data\n",
    "preds = pfn.predict(X_test, batch_size=1000)"
   ]
  },
  {
   "cell_type": "code",
   "execution_count": 10,
   "id": "f10c7d66-c975-49ea-be2d-6986304515f9",
   "metadata": {},
   "outputs": [
    {
     "name": "stdout",
     "output_type": "stream",
     "text": [
      "\n",
      "PFN AUC: 0.8745211216549986\n",
      "\n"
     ]
    }
   ],
   "source": [
    "# get ROC curve\n",
    "pfn_fp, pfn_tp, threshs = roc_curve(Y_test[:,1], preds[:,1])\n",
    "\n",
    "# get area under the ROC curve\n",
    "auc = roc_auc_score(Y_test[:,1], preds[:,1])\n",
    "print()\n",
    "print('PFN AUC:', auc)\n",
    "print()"
   ]
  },
  {
   "cell_type": "code",
   "execution_count": 11,
   "id": "85627f88-2a90-4221-afe9-1d460f665cbc",
   "metadata": {},
   "outputs": [
    {
     "data": {
      "image/png": "[encoded data removed]",
      "text/plain": [
       "<Figure size 400x400 with 1 Axes>"
      ]
     },
     "metadata": {},
     "output_type": "display_data"
    }
   ],
   "source": [
    "# get multiplicity and mass for comparison\n",
    "masses = np.asarray([ef.ms_from_p4s(ef.p4s_from_ptyphims(x).sum(axis=0)) for x in X])\n",
    "mults = np.asarray([np.count_nonzero(x[:,0]) for x in X])\n",
    "mass_fp, mass_tp, threshs = roc_curve(Y[:,1], -masses)\n",
    "mult_fp, mult_tp, threshs = roc_curve(Y[:,1], -mults)\n",
    "\n",
    "# some nicer plot settings\n",
    "plt.rcParams['figure.figsize'] = (4,4)\n",
    "plt.rcParams['font.family'] = 'serif'\n",
    "plt.rcParams['figure.autolayout'] = True\n",
    "\n",
    "# plot the ROC curves\n",
    "plt.plot(pfn_tp, 1-pfn_fp, '-', color='black', label='PFN')\n",
    "plt.plot(mass_tp, 1-mass_fp, '-', color='blue', label='Jet Mass')\n",
    "plt.plot(mult_tp, 1-mult_fp, '-', color='red', label='Multiplicity')\n",
    "\n",
    "# axes labels\n",
    "plt.xlabel('Quark Jet Efficiency')\n",
    "plt.ylabel('Gluon Jet Rejection')\n",
    "\n",
    "# axes limits\n",
    "plt.xlim(0, 1)\n",
    "plt.ylim(0, 1)\n",
    "\n",
    "# make legend and show plot\n",
    "plt.legend(loc='lower left', frameon=False)\n",
    "plt.show()"
   ]
  },
  {
   "cell_type": "code",
   "execution_count": 13,
   "id": "b42475f4-5b81-48dc-86b7-929f2a023cb0",
   "metadata": {},
   "outputs": [],
   "source": [
    "# import joblib"
   ]
  },
  {
   "cell_type": "code",
   "execution_count": 15,
   "id": "94c660c5-498a-4dc5-9543-565711669533",
   "metadata": {},
   "outputs": [],
   "source": [
    "# with open('pfn_finetune.h5', 'wb') as output_file:\n",
    "    # joblib.dump(pfn.model, output_file)"
   ]
  },
  {
   "cell_type": "code",
   "execution_count": 20,
   "id": "638bf78e-beee-4709-aec9-3f4bb70dd03b",
   "metadata": {},
   "outputs": [],
   "source": [
    "# pfn.model.save('pfn_finetune.h5')"
   ]
  },
  {
   "cell_type": "code",
   "execution_count": 22,
   "id": "7152004c-7ca8-443a-be43-e2142c7ad51a",
   "metadata": {},
   "outputs": [],
   "source": [
    "pfn.model.save_weights('pfn_finetune_weights.h5')"
   ]
  },
  {
   "cell_type": "markdown",
   "id": "09886f8d-bb1b-4349-876c-1299c93f86ea",
   "metadata": {},
   "source": [
    "### Fine tuning"
   ]
  },
  {
   "cell_type": "code",
   "execution_count": 61,
   "id": "c3216309-b5c6-410e-be4f-e9a5925cabfd",
   "metadata": {},
   "outputs": [
    {
     "name": "stdout",
     "output_type": "stream",
     "text": [
      "Model: \"model_2\"\n",
      "__________________________________________________________________________________________________\n",
      " Layer (type)                Output Shape                 Param #   Connected to                  \n",
      "==================================================================================================\n",
      " input (InputLayer)          [(None, None, 17)]           0         []                            \n",
      "                                                                                                  \n",
      " tdist_0 (TimeDistributed)   (None, None, 100)            1800      ['input[0][0]']               \n",
      "                                                                                                  \n",
      " activation_14 (Activation)  (None, None, 100)            0         ['tdist_0[0][0]']             \n",
      "                                                                                                  \n",
      " tdist_1 (TimeDistributed)   (None, None, 100)            10100     ['activation_14[0][0]']       \n",
      "                                                                                                  \n",
      " activation_15 (Activation)  (None, None, 100)            0         ['tdist_1[0][0]']             \n",
      "                                                                                                  \n",
      " tdist_2 (TimeDistributed)   (None, None, 128)            12928     ['activation_15[0][0]']       \n",
      "                                                                                                  \n",
      " mask (Lambda)               (None, None)                 0         ['input[0][0]']               \n",
      "                                                                                                  \n",
      " activation_16 (Activation)  (None, None, 128)            0         ['tdist_2[0][0]']             \n",
      "                                                                                                  \n",
      " sum (Dot)                   (None, 128)                  0         ['mask[0][0]',                \n",
      "                                                                     'activation_16[0][0]']       \n",
      "                                                                                                  \n",
      " dense_0 (Dense)             (None, 100)                  12900     ['sum[0][0]']                 \n",
      "                                                                                                  \n",
      " activation_17 (Activation)  (None, 100)                  0         ['dense_0[0][0]']             \n",
      "                                                                                                  \n",
      " dense_1 (Dense)             (None, 100)                  10100     ['activation_17[0][0]']       \n",
      "                                                                                                  \n",
      " activation_18 (Activation)  (None, 100)                  0         ['dense_1[0][0]']             \n",
      "                                                                                                  \n",
      " dense_2 (Dense)             (None, 100)                  10100     ['activation_18[0][0]']       \n",
      "                                                                                                  \n",
      " activation_19 (Activation)  (None, 100)                  0         ['dense_2[0][0]']             \n",
      "                                                                                                  \n",
      " output (Dense)              (None, 2)                    202       ['activation_19[0][0]']       \n",
      "                                                                                                  \n",
      " activation_20 (Activation)  (None, 2)                    0         ['output[0][0]']              \n",
      "                                                                                                  \n",
      "==================================================================================================\n",
      "Total params: 58130 (227.07 KB)\n",
      "Trainable params: 58130 (227.07 KB)\n",
      "Non-trainable params: 0 (0.00 Byte)\n",
      "__________________________________________________________________________________________________\n"
     ]
    }
   ],
   "source": [
    "new_pfn = PFN(input_dim=X.shape[-1], Phi_sizes=Phi_sizes, F_sizes=F_sizes)\n",
    "new_pfn.model.load_weights('pfn_finetune_weights.h5')"
   ]
  },
  {
   "cell_type": "code",
   "execution_count": 62,
   "id": "e4cf0f2e-d99b-4152-aae5-d6d69622d521",
   "metadata": {},
   "outputs": [],
   "source": [
    "X, y = qg_jets.load(num_data=train + val + test, generator='herwig')"
   ]
  },
  {
   "cell_type": "code",
   "execution_count": 63,
   "id": "c4fbdc45-6615-4fe8-bbf1-ec8908597f7d",
   "metadata": {},
   "outputs": [],
   "source": [
    "def one_hot_encode_pids(X, pid_to_index, num_pid_types):\n",
    "    X_new = []\n",
    "\n",
    "    for jet in X:\n",
    "        pt = jet[:,0][:, None]  # shape (n, 1)\n",
    "        yphi = jet[:,1:3]       # shape (n, 2)\n",
    "        pid = jet[:,3]          # shape (n,)\n",
    "\n",
    "        # create one-hot encodings\n",
    "        onehot = np.zeros((jet.shape[0], num_pid_types))\n",
    "        for i, p in enumerate(pid):\n",
    "            if p in pid_to_index:\n",
    "                onehot[i, pid_to_index[p]] = 1\n",
    "\n",
    "        # combine: pt + yphi + onehot(pid)\n",
    "        combined = np.concatenate([pt, yphi, onehot], axis=1)\n",
    "        X_new.append(combined)\n",
    "\n",
    "    return np.array(X_new)"
   ]
  },
  {
   "cell_type": "code",
   "execution_count": 64,
   "id": "0af14e48-2e05-47a3-a8d7-aecce25950ac",
   "metadata": {},
   "outputs": [],
   "source": [
    "# handle particle id channel\n",
    "\n",
    "use_pids = True\n",
    "\n",
    "for x in X:\n",
    "    mask = x[:,0] > 0\n",
    "    yphi_avg = np.average(x[mask,1:3], weights=x[mask,0], axis=0)\n",
    "    x[mask,1:3] -= yphi_avg\n",
    "    x[mask,0] /= x[:,0].sum()\n",
    "\n",
    "if use_pids:\n",
    "    # Extract unique PID values from the dataset\n",
    "    pid_vals = np.unique(X[:,:,3][X[:,:,0] > 0])\n",
    "    pid_to_index = {pid: i for i, pid in enumerate(pid_vals)}\n",
    "    num_pid_types = len(pid_vals)\n",
    "    X = one_hot_encode_pids(X, pid_to_index, num_pid_types)\n",
    "else:\n",
    "    X = X[:,:,:3]"
   ]
  },
  {
   "cell_type": "code",
   "execution_count": 65,
   "id": "cdaa7d74-4c26-4d05-9c68-24cfc521f544",
   "metadata": {},
   "outputs": [],
   "source": [
    "# convert labels to categorical\n",
    "Y = to_categorical(y, num_classes=2)"
   ]
  },
  {
   "cell_type": "code",
   "execution_count": 66,
   "id": "57e9a16b-a0f6-4b54-b4f6-ae4b4d627e94",
   "metadata": {},
   "outputs": [
    {
     "name": "stdout",
     "output_type": "stream",
     "text": [
      "Done train/val/test split\n"
     ]
    }
   ],
   "source": [
    "# do train/val/test split\n",
    "(X_train, X_val, X_test,\n",
    " Y_train, Y_val, Y_test) = data_split(X, Y, val=val, test=test)\n",
    "\n",
    "# Xtr, Xte, Ytr, Yte = train_test_split(Xz, Yz, test_size=0.2, stratify=Yz, random_state=42)\n",
    "\n",
    "print('Done train/val/test split')"
   ]
  },
  {
   "cell_type": "code",
   "execution_count": 44,
   "id": "fc54c89e-c6cd-42c0-abbd-f31f11e3817f",
   "metadata": {},
   "outputs": [
    {
     "name": "stdout",
     "output_type": "stream",
     "text": [
      "model module: tf_keras.src.engine.functional\n",
      "tf.keras: 3.11.0\n",
      "keras: 3.11.0\n"
     ]
    }
   ],
   "source": [
    "import tensorflow as tf\n",
    "import keras\n",
    "\n",
    "print(\"model module:\", new_pfn.model.__class__.__module__)\n",
    "print(\"tf.keras:\", tf.keras.__version__)\n",
    "print(\"keras:\", keras.__version__)"
   ]
  },
  {
   "cell_type": "code",
   "execution_count": 67,
   "id": "33ac659d-767c-486b-95d3-61c93fd39c65",
   "metadata": {},
   "outputs": [],
   "source": [
    "# freeze early layers (PFN is Phi then F blocks; you may need to inspect layer names)\n",
    "for layer in new_pfn.model.layers[:9]:   # adjust the slice after checking summary()\n",
    "    layer.trainable = False\n",
    "\n",
    "new_pfn.model.compile(\n",
    "    optimizer='adam',\n",
    "    loss='categorical_crossentropy',\n",
    "    metrics=['accuracy']\n",
    ")"
   ]
  },
  {
   "cell_type": "code",
   "execution_count": null,
   "id": "ef145eea-191c-481e-9415-cf8e75ae3266",
   "metadata": {},
   "outputs": [],
   "source": [
    "# from tf_keras.callbacks import EarlyStopping, ModelCheckpoint, ReduceLROnPlateau\n",
    "# cbs = [\n",
    "#     ModelCheckpoint(\n",
    "#         filepath='pfn_best.weights.h5',           # or 'checkpoints/pfn_best'\n",
    "#         monitor='val_loss',\n",
    "#         save_best_only=True,\n",
    "#         save_weights_only=True,             # <- key bit\n",
    "#         verbose=1\n",
    "#     ),\n",
    "#     ReduceLROnPlateau(monitor='val_loss', factor=0.5, patience=2, min_lr=1e-6, verbose=1),\n",
    "#     EarlyStopping(monitor='val_loss', patience=5, restore_best_weights=True, verbose=1),\n",
    "# ]\n",
    "\n",
    "# history = new_pfn.model.fit(\n",
    "#     X_train, Y_train,\n",
    "#     validation_data=(X_val, Y_val),\n",
    "#     epochs=15,\n",
    "#     batch_size=512,\n",
    "#     callbacks=cbs,\n",
    "#     verbose=1\n",
    "# )"
   ]
  },
  {
   "cell_type": "code",
   "execution_count": 68,
   "id": "0593beae-5ca7-4eec-9850-15406aea2944",
   "metadata": {},
   "outputs": [
    {
     "name": "stdout",
     "output_type": "stream",
     "text": [
      "Epoch 1/15\n",
      "146/147 [============================>.] - ETA: 0s - loss: 0.5387 - accuracy: 0.7338\n",
      "val AUC: 0.81039 (best=-inf)\n",
      "Saved new best weights to pfn_best.weights.h5\n",
      "147/147 [==============================] - 11s 69ms/step - loss: 0.5388 - accuracy: 0.7337 - val_loss: 0.5319 - val_accuracy: 0.7392 - lr: 0.0010\n",
      "Epoch 2/15\n",
      "147/147 [==============================] - ETA: 0s - loss: 0.5343 - accuracy: 0.7369\n",
      "val AUC: 0.80992 (best=0.81039)\n",
      "147/147 [==============================] - 9s 58ms/step - loss: 0.5343 - accuracy: 0.7369 - val_loss: 0.5300 - val_accuracy: 0.7379 - lr: 0.0010\n",
      "Epoch 3/15\n",
      "147/147 [==============================] - ETA: 0s - loss: 0.5323 - accuracy: 0.7376\n",
      "val AUC: 0.81222 (best=0.81039)\n",
      "Saved new best weights to pfn_best.weights.h5\n",
      "147/147 [==============================] - 8s 58ms/step - loss: 0.5323 - accuracy: 0.7376 - val_loss: 0.5311 - val_accuracy: 0.7362 - lr: 0.0010\n",
      "Epoch 4/15\n",
      "147/147 [==============================] - ETA: 0s - loss: 0.5311 - accuracy: 0.7388\n",
      "val AUC: 0.81158 (best=0.81222)\n",
      "\n",
      "Epoch 4: ReduceLROnPlateau reducing learning rate to 0.0005000000237487257.\n",
      "147/147 [==============================] - 8s 55ms/step - loss: 0.5311 - accuracy: 0.7388 - val_loss: 0.5304 - val_accuracy: 0.7381 - lr: 0.0010\n",
      "Epoch 5/15\n",
      "147/147 [==============================] - ETA: 0s - loss: 0.5286 - accuracy: 0.7411\n",
      "val AUC: 0.81204 (best=0.81222)\n",
      "147/147 [==============================] - 8s 55ms/step - loss: 0.5286 - accuracy: 0.7411 - val_loss: 0.5271 - val_accuracy: 0.7405 - lr: 5.0000e-04\n",
      "Epoch 6/15\n",
      "147/147 [==============================] - ETA: 0s - loss: 0.5277 - accuracy: 0.7416\n",
      "val AUC: 0.81175 (best=0.81222)\n",
      "147/147 [==============================] - 8s 54ms/step - loss: 0.5277 - accuracy: 0.7416 - val_loss: 0.5279 - val_accuracy: 0.7374 - lr: 5.0000e-04\n",
      "Epoch 7/15\n",
      "147/147 [==============================] - ETA: 0s - loss: 0.5278 - accuracy: 0.7408\n",
      "val AUC: 0.81198 (best=0.81222)\n",
      "\n",
      "Epoch 7: ReduceLROnPlateau reducing learning rate to 0.0002500000118743628.\n",
      "147/147 [==============================] - 8s 55ms/step - loss: 0.5278 - accuracy: 0.7408 - val_loss: 0.5276 - val_accuracy: 0.7370 - lr: 5.0000e-04\n",
      "Epoch 8/15\n",
      "147/147 [==============================] - ETA: 0s - loss: 0.5262 - accuracy: 0.7418\n",
      "val AUC: 0.81262 (best=0.81222)\n",
      "Saved new best weights to pfn_best.weights.h5\n",
      "147/147 [==============================] - 8s 54ms/step - loss: 0.5262 - accuracy: 0.7418 - val_loss: 0.5266 - val_accuracy: 0.7400 - lr: 2.5000e-04\n",
      "Epoch 9/15\n",
      "147/147 [==============================] - ETA: 0s - loss: 0.5256 - accuracy: 0.7425\n",
      "val AUC: 0.81281 (best=0.81262)\n",
      "Saved new best weights to pfn_best.weights.h5\n",
      "147/147 [==============================] - 8s 55ms/step - loss: 0.5256 - accuracy: 0.7425 - val_loss: 0.5276 - val_accuracy: 0.7379 - lr: 2.5000e-04\n",
      "Epoch 10/15\n",
      "146/147 [============================>.] - ETA: 0s - loss: 0.5254 - accuracy: 0.7425\n",
      "val AUC: 0.81335 (best=0.81281)\n",
      "Saved new best weights to pfn_best.weights.h5\n",
      "\n",
      "Epoch 10: ReduceLROnPlateau reducing learning rate to 0.0001250000059371814.\n",
      "147/147 [==============================] - 8s 57ms/step - loss: 0.5254 - accuracy: 0.7424 - val_loss: 0.5284 - val_accuracy: 0.7361 - lr: 2.5000e-04\n",
      "Epoch 11/15\n",
      "147/147 [==============================] - ETA: 0s - loss: 0.5248 - accuracy: 0.7430\n",
      "val AUC: 0.81291 (best=0.81335)\n",
      "147/147 [==============================] - 8s 56ms/step - loss: 0.5248 - accuracy: 0.7430 - val_loss: 0.5261 - val_accuracy: 0.7406 - lr: 1.2500e-04\n",
      "Epoch 12/15\n",
      "147/147 [==============================] - ETA: 0s - loss: 0.5245 - accuracy: 0.7438\n",
      "val AUC: 0.81300 (best=0.81335)\n",
      "147/147 [==============================] - 8s 56ms/step - loss: 0.5245 - accuracy: 0.7438 - val_loss: 0.5260 - val_accuracy: 0.7411 - lr: 1.2500e-04\n",
      "Epoch 13/15\n",
      "146/147 [============================>.] - ETA: 0s - loss: 0.5245 - accuracy: 0.7434\n",
      "val AUC: 0.81294 (best=0.81335)\n",
      "147/147 [==============================] - 8s 55ms/step - loss: 0.5245 - accuracy: 0.7435 - val_loss: 0.5290 - val_accuracy: 0.7366 - lr: 1.2500e-04\n",
      "Epoch 14/15\n",
      "147/147 [==============================] - ETA: 0s - loss: 0.5241 - accuracy: 0.7438\n",
      "val AUC: 0.81297 (best=0.81335)\n",
      "\n",
      "Epoch 14: ReduceLROnPlateau reducing learning rate to 6.25000029685907e-05.\n",
      "147/147 [==============================] - 8s 54ms/step - loss: 0.5241 - accuracy: 0.7438 - val_loss: 0.5290 - val_accuracy: 0.7377 - lr: 1.2500e-04\n",
      "Epoch 15/15\n",
      "147/147 [==============================] - ETA: 0s - loss: 0.5237 - accuracy: 0.7435\n",
      "val AUC: 0.81305 (best=0.81335)\n",
      "147/147 [==============================] - 8s 54ms/step - loss: 0.5237 - accuracy: 0.7435 - val_loss: 0.5264 - val_accuracy: 0.7393 - lr: 6.2500e-05\n",
      "Restoring model weights from the end of the best epoch: 12.\n"
     ]
    }
   ],
   "source": [
    "from tf_keras.callbacks import EarlyStopping, ReduceLROnPlateau, Callback\n",
    "\n",
    "class SaveBestAUC(Callback):\n",
    "    def __init__(self, X_val, Y_val, path='pfn_best_auc.ckpt'):\n",
    "        super().__init__()\n",
    "        self.X_val = X_val\n",
    "        self.Y_val = Y_val\n",
    "        self.path = path\n",
    "        self.best = -np.inf\n",
    "\n",
    "    def on_epoch_end(self, epoch, logs=None):\n",
    "        # predict proba for class 1\n",
    "        probs = self.model.predict(self.X_val, verbose=0)[:, 1]\n",
    "        auc = roc_auc_score(self.Y_val[:, 1], probs)\n",
    "        print(f\"\\nval AUC: {auc:.5f} (best={self.best:.5f})\")\n",
    "        if auc > self.best:\n",
    "            self.best = auc\n",
    "            self.model.save_weights(self.path)\n",
    "            print(f\"Saved new best weights to {self.path}\")\n",
    "\n",
    "cbs = [\n",
    "    SaveBestAUC(X_val, Y_val, path='pfn_best.weights.h5'),\n",
    "    ReduceLROnPlateau(monitor='val_loss', factor=0.5, patience=2, min_lr=1e-6, verbose=1),\n",
    "    EarlyStopping(monitor='val_loss', patience=5, restore_best_weights=True, verbose=1),\n",
    "]\n",
    "\n",
    "history = new_pfn.model.fit(\n",
    "    X_train, Y_train,\n",
    "    validation_data=(X_val, Y_val),\n",
    "    epochs=15,\n",
    "    batch_size=512,\n",
    "    callbacks=cbs,\n",
    "    verbose=1\n",
    ")"
   ]
  },
  {
   "cell_type": "code",
   "execution_count": 73,
   "id": "8cd1695c-f286-49c8-920a-611f94cca5d9",
   "metadata": {},
   "outputs": [
    {
     "name": "stdout",
     "output_type": "stream",
     "text": [
      "15/15 [==============================] - 1s 77ms/step\n"
     ]
    }
   ],
   "source": [
    "# get predictions on test data\n",
    "preds = new_pfn.predict(X_test, batch_size=1000)"
   ]
  },
  {
   "cell_type": "code",
   "execution_count": 74,
   "id": "3ea13c7a-6aa7-4564-ab05-bbcf2b98414e",
   "metadata": {},
   "outputs": [
    {
     "name": "stdout",
     "output_type": "stream",
     "text": [
      "\n",
      "PFN AUC: 0.8132374709248373\n",
      "\n"
     ]
    }
   ],
   "source": [
    "# get ROC curve\n",
    "pfn_fp, pfn_tp, threshs = roc_curve(Y_test[:,1], preds[:,1])\n",
    "\n",
    "# get area under the ROC curve\n",
    "auc = roc_auc_score(Y_test[:,1], preds[:,1])\n",
    "print()\n",
    "print('PFN AUC:', auc)\n",
    "print()"
   ]
  },
  {
   "cell_type": "code",
   "execution_count": null,
   "id": "ccf87244-74c4-4623-8c70-ba94d5e155be",
   "metadata": {},
   "outputs": [],
   "source": []
  }
 ],
 "metadata": {
  "kernelspec": {
   "display_name": "Python 3 (ipykernel)",
   "language": "python",
   "name": "python3"
  },
  "language_info": {
   "codemirror_mode": {
    "name": "ipython",
    "version": 3
   },
   "file_extension": ".py",
   "mimetype": "text/x-python",
   "name": "python",
   "nbconvert_exporter": "python",
   "pygments_lexer": "ipython3",
   "version": "3.12.6"
  }
 },
 "nbformat": 4,
 "nbformat_minor": 5
}
